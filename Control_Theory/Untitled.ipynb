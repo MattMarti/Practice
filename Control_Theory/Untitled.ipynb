{
 "cells": [
  {
   "cell_type": "markdown",
   "id": "c4385751-fb83-4dc3-a1fd-c8e3ea0d4788",
   "metadata": {},
   "source": [
    "# Simple PID Controller\n",
    "\n",
    "Design the control gain for a Proportional, Integral, Derivative (PID) controller for a 1 degree of freedom system. I would like a small transient, and I should choose some rise time.\n",
    "\n",
    "Let's say a 95% rise time of 0.1 seconds, and a transient of no more than "
   ]
  },
  {
   "cell_type": "markdown",
   "id": "d586e80e-ded1-4189-b6d9-bc33f1bdbda3",
   "metadata": {},
   "source": [
    "## System In State Space Form\n",
    "\n",
    "We will model a system where the control input affects the second derivative of the state variable. This models a controller that drives position error or phase error to zero. Because we have an integral control component, one of the state variables will be the integral of the phase error. The system state will be\n",
    "\n",
    "$$\n",
    "x = \\begin{bmatrix}\n",
    "    \\int\\delta\\theta dt \\\\\n",
    "    \\delta\\theta \\\\\n",
    "    \\delta\\omega \\\\\n",
    "    \\delta\\alpha\n",
    "\\end{bmatrix}\n",
    "$$\n",
    "\n",
    "The homogeneous state space equation is\n",
    "\n",
    "$$\n",
    "\\dot{x} = Ax \n",
    "= \\begin{bmatrix}\n",
    "    0 & 1 & 0 & 0 \\\\ \n",
    "    0 & 0 & 1 & 0 \\\\ \n",
    "    0 & 0 & 0 & 1 \\\\ \n",
    "    0 & 0 & 0 & 0 \\end{bmatrix} \n",
    "\\begin{bmatrix}\n",
    "    \\int\\delta\\theta \\\\\n",
    "    \\delta\\theta \\\\\n",
    "    \\delta\\omega \\\\\n",
    "    \\delta\\alpha\n",
    "\\end{bmatrix}\n",
    "$$"
   ]
  },
  {
   "cell_type": "markdown",
   "id": "7cb437bf-9c97-4c2b-9527-3f65a5241f43",
   "metadata": {},
   "source": [
    "## Control Input\n",
    "\n",
    "The control law for a PID controller takes the form of:\n",
    "\n",
    "$$\n",
    "u = - k_p \\delta x - k_i \\int\\delta x dt - k_d \\dot{\\delta x}\n",
    "$$\n",
    "\n",
    "The control law in matrix form will be\n",
    "\n",
    "$$\n",
    "u = - Kx = - \\begin{bmatrix}\n",
    "1 & 1 & 1 & 0\n",
    "\\end{bmatrix}\n",
    "$$\n",
    "\n",
    "We choose $B$ such that the control input is applied to the acceleration:\n",
    "\n",
    "$$\n",
    "B = \\begin{bmatrix}\n",
    "0 \\\\\n",
    "0 \\\\\n",
    "0 \\\\\n",
    "1\n",
    "\\end{bmatrix}\n",
    "$$\n",
    "\n",
    "Then the system in state space form becomes\n",
    "\n",
    "$$\n",
    "\\dot{x} = Ax + Bu\n",
    "= \\begin{bmatrix}\n",
    "    0 & 1 & 0 & 0 \\\\ \n",
    "    0 & 0 & 1 & 0 \\\\ \n",
    "    0 & 0 & 0 & 1 \\\\ \n",
    "    0 & 0 & 0 & 0 \\end{bmatrix} \n",
    "\\begin{bmatrix}\n",
    "    \\int\\delta\\theta \\\\\n",
    "    \\delta\\theta \\\\\n",
    "    \\delta\\omega \\\\\n",
    "    \\delta\\alpha\n",
    "\\end{bmatrix}\n",
    "+\n",
    "\\begin{bmatrix}\n",
    "0 \\\\\n",
    "0 \\\\\n",
    "0 \\\\\n",
    "1 \\\\\n",
    "\\end{bmatrix}\n",
    "u\n",
    "$$"
   ]
  },
  {
   "cell_type": "markdown",
   "id": "1bd88758-4626-4d95-95eb-2f93298cfca6",
   "metadata": {},
   "source": [
    "## Controllability Analysis\n",
    "\n",
    "The system is controllable if the rank of the controllability matrix is equal to the number of state variables. In this case, there are 4 state variables. From inspection, the system is probably controllable."
   ]
  },
  {
   "cell_type": "code",
   "execution_count": 17,
   "id": "b7752b45-c0de-427a-a66d-3152b8aefded",
   "metadata": {},
   "outputs": [
    {
     "name": "stdout",
     "output_type": "stream",
     "text": [
      "Controllability Matrix:\n",
      "[[1 0 0 0]\n",
      " [0 1 0 0]\n",
      " [0 0 1 0]\n",
      " [0 0 0 1]]\n",
      "Rank of controllability matrix is 4\n"
     ]
    }
   ],
   "source": [
    "import numpy as np\n",
    "\n",
    "A = np.array([\n",
    "    [0, 1, 0, 0],\n",
    "    [0, 0, 1, 0],\n",
    "    [0, 0, 0, 1],\n",
    "    [0, 0, 0, 0],\n",
    "])\n",
    "B = np.array([[0], [0], [0], [1]])\n",
    "\n",
    "control_matrix = np.hstack([\n",
    "    A @ A @ A @ B,\n",
    "    A @ A @ B,\n",
    "    A @ B,\n",
    "    B,\n",
    "])\n",
    "\n",
    "print(\"Controllability Matrix:\")\n",
    "print(control_matrix)\n",
    "print(f\"Rank of controllability matrix is {np.linalg.matrix_rank(control_matrix)}\")"
   ]
  },
  {
   "cell_type": "markdown",
   "id": "6b3a80cb-d9d7-4bfc-ab01-392de6b3c37d",
   "metadata": {},
   "source": [
    "This isn't a super exciting system."
   ]
  },
  {
   "cell_type": "markdown",
   "id": "10dcc24e-85cd-4b87-92f1-2d6372cedc2d",
   "metadata": {},
   "source": [
    "## Control Gain Via Pole Placement and Degree of Stability\n",
    "\n",
    "I'd like to design this with a particular rise time. Let's force the system to converge at least as fast as $e^{-\\rho t}$. Then we can write an augmented state space system:\n",
    "\n",
    "$$\n",
    "\\dot{\\tilde{x}} = (\\rho I + A)\\tilde{x} + B \\tilde{u}\n",
    "$$\n",
    "\n",
    "We can determine our time constant $\\rho$ from the 95% rise time criteria:\n",
    "\n",
    "$$\n",
    "\\rho = \\frac{\\log(0.05)}{0.1}\n",
    "$$\n",
    "\n",
    "Is this augmented state controllable?"
   ]
  },
  {
   "cell_type": "code",
   "execution_count": 19,
   "id": "80117e77-486c-4ba7-940a-f2939bdb1bde",
   "metadata": {},
   "outputs": [
    {
     "name": "stdout",
     "output_type": "stream",
     "text": [
      "Augmented controllability matrix:\n",
      "[[ 0.00000000e+00  0.00000000e+00  0.00000000e+00  1.00000000e+00]\n",
      " [ 0.00000000e+00  0.00000000e+00  1.00000000e+00 -8.98719682e+01]\n",
      " [ 0.00000000e+00  1.00000000e+00 -5.99146455e+01  2.69232356e+03]\n",
      " [ 1.00000000e+00 -2.99573227e+01  8.97441185e+02 -2.68849352e+04]]\n",
      "Rank of augmented controllability matrix: 4\n"
     ]
    }
   ],
   "source": [
    "import control as ct\n",
    "\n",
    "rise_treshold = 0.95\n",
    "rise_value = 1.0 - rise_treshold\n",
    "rise_time = 0.1\n",
    "\n",
    "rho = np.log(rise_value) / rise_time\n",
    "\n",
    "# System dimensions\n",
    "n = 4\n",
    "\n",
    "aug_control_mat = ct.ctrb(rho * np.eye(4) + A, B)\n",
    "print(\"Augmented controllability matrix:\")\n",
    "print(aug_control_mat)\n",
    "print(f\"Rank of augmented controllability matrix: {np.linalg.matrix_rank(aug_control_mat)}\")"
   ]
  },
  {
   "cell_type": "code",
   "execution_count": null,
   "id": "8304b4aa-bc48-40d7-83f2-e821a415ba00",
   "metadata": {},
   "outputs": [],
   "source": []
  }
 ],
 "metadata": {
  "kernelspec": {
   "display_name": "Python 3 (ipykernel)",
   "language": "python",
   "name": "python3"
  },
  "language_info": {
   "codemirror_mode": {
    "name": "ipython",
    "version": 3
   },
   "file_extension": ".py",
   "mimetype": "text/x-python",
   "name": "python",
   "nbconvert_exporter": "python",
   "pygments_lexer": "ipython3",
   "version": "3.10.11"
  }
 },
 "nbformat": 4,
 "nbformat_minor": 5
}
